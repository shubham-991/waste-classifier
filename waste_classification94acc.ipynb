{
  "nbformat": 4,
  "nbformat_minor": 0,
  "metadata": {
    "colab": {
      "name": "waste_classification94acc.ipynb",
      "provenance": [],
      "collapsed_sections": []
    },
    "kernelspec": {
      "name": "python3",
      "display_name": "Python 3"
    },
    "accelerator": "GPU"
  },
  "cells": [
    {
      "cell_type": "markdown",
      "metadata": {
        "id": "qBOt7dIj4FRd"
      },
      "source": [
        "**Waste Classification Recyclable or Organic Product**\n"
      ]
    },
    {
      "cell_type": "code",
      "metadata": {
        "id": "ISWrN5Ee4Rf3",
        "colab": {
          "base_uri": "https://localhost:8080/"
        },
        "outputId": "f3a7e16d-7643-4a7f-9127-485d760d4759"
      },
      "source": [
        "#Mounting Google Drive\n",
        "from google.colab import drive\n",
        "drive.mount('/content/drive')"
      ],
      "execution_count": null,
      "outputs": [
        {
          "output_type": "stream",
          "text": [
            "Drive already mounted at /content/drive; to attempt to forcibly remount, call drive.mount(\"/content/drive\", force_remount=True).\n"
          ],
          "name": "stdout"
        }
      ]
    },
    {
      "cell_type": "markdown",
      "source": [
        ""
      ],
      "metadata": {
        "id": "maWazWVdd5Gw"
      }
    },
    {
      "cell_type": "code",
      "metadata": {
        "id": "MKoyIKcB4rvh"
      },
      "source": [
        "#Importing libraries\n",
        "import os\n",
        "import numpy as np\n",
        "import matplotlib.pyplot as plt\n",
        "import keras"
      ],
      "execution_count": null,
      "outputs": []
    },
    {
      "cell_type": "code",
      "metadata": {
        "id": "Z_zCs5tk5d0r"
      },
      "source": [
        "from keras.models import Sequential\n",
        "from keras.layers import Conv2D\n",
        "from keras.layers import MaxPooling2D\n",
        "from keras.layers import Dense\n",
        "from keras.layers import Flatten\n",
        "from keras.layers import Dropout\n",
        "from keras.preprocessing.image import ImageDataGenerator\n",
        "from keras.preprocessing import image\n",
        "from keras.models import load_model\n",
        "from keras.callbacks import ModelCheckpoint"
      ],
      "execution_count": null,
      "outputs": []
    },
    {
      "cell_type": "code",
      "metadata": {
        "colab": {
          "base_uri": "https://localhost:8080/"
        },
        "id": "e2nElnkeMdxN",
        "outputId": "0c603d2f-5740-4e52-ea4c-55e2d46c86c0"
      },
      "source": [
        "%cd /content/drive/My Drive/waste_classification"
      ],
      "execution_count": null,
      "outputs": [
        {
          "output_type": "stream",
          "text": [
            "/content/drive/My Drive/waste_classification\n"
          ],
          "name": "stdout"
        }
      ]
    },
    {
      "cell_type": "code",
      "metadata": {
        "id": "ZwH8eImp8GsG"
      },
      "source": [
        "#Initialising the variable\n",
        "train_path = '/content/drive/My Drive/waste_classification/dataset/training_set'\n",
        "test_path = '/content/drive/My Drive/waste_classification/dataset/test_set'\n",
        "img_width = 64\n",
        "img_height = 64\n",
        "no_of_output = 2\n"
      ],
      "execution_count": null,
      "outputs": []
    },
    {
      "cell_type": "markdown",
      "metadata": {
        "id": "hlHqSsB9HjVY"
      },
      "source": [
        "### #Part 1 - Building the CNN"
      ]
    },
    {
      "cell_type": "code",
      "metadata": {
        "id": "rgENUad86O7A"
      },
      "source": [
        "#Part 1 - Building the CNN\n",
        "\n",
        "#Function for creating the architecture of model\n",
        "def cnn_model():\n",
        "    \n",
        "    #Initialising the cnn\n",
        "    classifier = Sequential()\n",
        "    \n",
        "    #Adding Convolution Layer\n",
        "    classifier.add(Conv2D(32, kernel_size=(3, 3), activation='relu', input_shape=(img_height,img_width,3)))\n",
        "    classifier.add(Conv2D(32, kernel_size=(3, 3), activation='relu'))\n",
        "    classifier.add(Conv2D(32, kernel_size=(3, 3), activation='relu'))\n",
        "    #Maxpooling\n",
        "    classifier.add(MaxPooling2D(pool_size=(2, 2)))\n",
        "    #Adding Dropout to prevent form overfitting\n",
        "    classifier.add(Dropout(0.25))\n",
        "\n",
        "    classifier.add(Conv2D(64, kernel_size=(3, 3), activation='relu'))\n",
        "    classifier.add(Conv2D(64, kernel_size=(3, 3), activation='relu'))\n",
        "    classifier.add(Conv2D(64, kernel_size=(3, 3), activation='relu'))\n",
        "    \n",
        "    classifier.add(MaxPooling2D(pool_size=(2, 2)))\n",
        "    classifier.add(Dropout(0.25))\n",
        "    \n",
        "    #Flattening of data\n",
        "    classifier.add(Flatten())\n",
        "\n",
        "    #Adding full connection layer\n",
        "    classifier.add(Dense(256, activation='relu'))\n",
        "    classifier.add(Dropout(0.25))\n",
        "    classifier.add(Dense(256, activation='relu'))\n",
        "    classifier.add(Dropout(0.25))\n",
        "    \n",
        "    #Adding Output layer\n",
        "    classifier.add(Dense(no_of_output, activation='softmax'))\n",
        "\n",
        "    #compiling the model\n",
        "    classifier.compile(loss='categorical_crossentropy', optimizer=\"adam\", metrics=['accuracy'])\n",
        "              \n",
        "    return classifier\n",
        "\n"
      ],
      "execution_count": null,
      "outputs": []
    },
    {
      "cell_type": "code",
      "metadata": {
        "id": "TIiBWRheB6mV",
        "colab": {
          "base_uri": "https://localhost:8080/"
        },
        "outputId": "4f15d5c2-6eef-4239-ba5a-8dd5e4ed4aa6"
      },
      "source": [
        "classifier= cnn_model()\n",
        "classifier.summary()"
      ],
      "execution_count": null,
      "outputs": [
        {
          "output_type": "stream",
          "text": [
            "Model: \"sequential\"\n",
            "_________________________________________________________________\n",
            "Layer (type)                 Output Shape              Param #   \n",
            "=================================================================\n",
            "conv2d (Conv2D)              (None, 62, 62, 32)        896       \n",
            "_________________________________________________________________\n",
            "conv2d_1 (Conv2D)            (None, 60, 60, 32)        9248      \n",
            "_________________________________________________________________\n",
            "conv2d_2 (Conv2D)            (None, 58, 58, 32)        9248      \n",
            "_________________________________________________________________\n",
            "max_pooling2d (MaxPooling2D) (None, 29, 29, 32)        0         \n",
            "_________________________________________________________________\n",
            "dropout (Dropout)            (None, 29, 29, 32)        0         \n",
            "_________________________________________________________________\n",
            "conv2d_3 (Conv2D)            (None, 27, 27, 64)        18496     \n",
            "_________________________________________________________________\n",
            "conv2d_4 (Conv2D)            (None, 25, 25, 64)        36928     \n",
            "_________________________________________________________________\n",
            "conv2d_5 (Conv2D)            (None, 23, 23, 64)        36928     \n",
            "_________________________________________________________________\n",
            "max_pooling2d_1 (MaxPooling2 (None, 11, 11, 64)        0         \n",
            "_________________________________________________________________\n",
            "dropout_1 (Dropout)          (None, 11, 11, 64)        0         \n",
            "_________________________________________________________________\n",
            "flatten (Flatten)            (None, 7744)              0         \n",
            "_________________________________________________________________\n",
            "dense (Dense)                (None, 256)               1982720   \n",
            "_________________________________________________________________\n",
            "dropout_2 (Dropout)          (None, 256)               0         \n",
            "_________________________________________________________________\n",
            "dense_1 (Dense)              (None, 256)               65792     \n",
            "_________________________________________________________________\n",
            "dropout_3 (Dropout)          (None, 256)               0         \n",
            "_________________________________________________________________\n",
            "dense_2 (Dense)              (None, 2)                 514       \n",
            "=================================================================\n",
            "Total params: 2,160,770\n",
            "Trainable params: 2,160,770\n",
            "Non-trainable params: 0\n",
            "_________________________________________________________________\n"
          ],
          "name": "stdout"
        }
      ]
    },
    {
      "cell_type": "code",
      "metadata": {
        "id": "28IUEwl_VrWZ"
      },
      "source": [
        "checkpoint_path= \"/content/drive/My Drive/waste_classification/model/training_1/cp.ckpt\"\n",
        "checkpoint_dir = os.path.dirname(checkpoint_path)\n",
        "\n",
        "check_point = ModelCheckpoint(checkpoint_path,  \n",
        "                             monitor='val_acc', \n",
        "                             save_best_only=True\n",
        "                             )\n"
      ],
      "execution_count": null,
      "outputs": []
    },
    {
      "cell_type": "code",
      "metadata": {
        "id": "lQuZWUoH_SrY"
      },
      "source": [
        "#Function for predicting the input image\n",
        "def use_model(path):\n",
        "    test_image = image.load_img(path, target_size = (64, 64))\n",
        "    test_image = image.img_to_array(test_image)\n",
        "    test_image = np.expand_dims(test_image, axis = 0)\n",
        "    classes = classifier.predict_classes(test_image)\n",
        "    return classes"
      ],
      "execution_count": null,
      "outputs": []
    },
    {
      "cell_type": "markdown",
      "metadata": {
        "id": "hgSksibqHqpB"
      },
      "source": [
        "### #Image Data Preprocessing"
      ]
    },
    {
      "cell_type": "code",
      "metadata": {
        "id": "sGFgQ7NMEjk0"
      },
      "source": [
        "#Image Data Preprocessing\n",
        "train_datagen = ImageDataGenerator(rescale = 1./255,\n",
        "                                   shear_range = 0.2,\n",
        "                                   zoom_range = 0.2,\n",
        "                                   horizontal_flip = True)\n",
        "\n",
        "test_datagen = ImageDataGenerator(rescale = 1./255)"
      ],
      "execution_count": null,
      "outputs": []
    },
    {
      "cell_type": "code",
      "metadata": {
        "id": "7X7Ark4WHbtQ",
        "colab": {
          "base_uri": "https://localhost:8080/"
        },
        "outputId": "99c98a17-b0cf-4dac-cc07-7be2758d6abd"
      },
      "source": [
        "training_set = train_datagen.flow_from_directory(train_path,\n",
        "                                                 target_size = (img_height,img_width),\n",
        "                                                 classes = ['O','R'])\n",
        "\n",
        "test_set = test_datagen.flow_from_directory(test_path,\n",
        "                                            target_size = (img_height,img_width),\n",
        "                                            classes = ['O','R'])"
      ],
      "execution_count": null,
      "outputs": [
        {
          "output_type": "stream",
          "text": [
            "Found 9427 images belonging to 2 classes.\n",
            "Found 1523 images belonging to 2 classes.\n"
          ],
          "name": "stdout"
        }
      ]
    },
    {
      "cell_type": "code",
      "metadata": {
        "colab": {
          "base_uri": "https://localhost:8080/"
        },
        "id": "XweUQ_h9MSLG",
        "outputId": "0cb26169-0b08-4f00-a11d-87cee54c396c"
      },
      "source": [
        "!pwd"
      ],
      "execution_count": null,
      "outputs": [
        {
          "output_type": "stream",
          "text": [
            "/content/drive/My Drive/waste_classification\n"
          ],
          "name": "stdout"
        }
      ]
    },
    {
      "cell_type": "code",
      "metadata": {
        "id": "-ZHh98ADJGW5",
        "colab": {
          "base_uri": "https://localhost:8080/"
        },
        "outputId": "e82501db-a02b-4e7c-e139-c6a0023ad289"
      },
      "source": [
        "#run code to train the neural network\n",
        "\n",
        "classifier.fit(training_set,  \n",
        "                             validation_data= test_set,  \n",
        "                             epochs= 100, \n",
        "                             callbacks=[check_point])\n",
        "\n",
        "classifier.save('my_model.h5')"
      ],
      "execution_count": null,
      "outputs": [
        {
          "output_type": "stream",
          "text": [
            "Epoch 1/100\n",
            "295/295 [==============================] - ETA: 0s - loss: 0.5205 - accuracy: 0.7502WARNING:tensorflow:Can save best model only with val_acc available, skipping.\n",
            "295/295 [==============================] - 2161s 7s/step - loss: 0.5205 - accuracy: 0.7502 - val_loss: 0.4619 - val_accuracy: 0.7873\n",
            "Epoch 2/100\n",
            "295/295 [==============================] - ETA: 0s - loss: 0.4418 - accuracy: 0.8061WARNING:tensorflow:Can save best model only with val_acc available, skipping.\n",
            "295/295 [==============================] - 33s 113ms/step - loss: 0.4418 - accuracy: 0.8061 - val_loss: 0.4666 - val_accuracy: 0.8148\n",
            "Epoch 3/100\n",
            "295/295 [==============================] - ETA: 0s - loss: 0.4167 - accuracy: 0.8235WARNING:tensorflow:Can save best model only with val_acc available, skipping.\n",
            "295/295 [==============================] - 32s 110ms/step - loss: 0.4167 - accuracy: 0.8235 - val_loss: 0.3634 - val_accuracy: 0.8582\n",
            "Epoch 4/100\n",
            "295/295 [==============================] - ETA: 0s - loss: 0.3897 - accuracy: 0.8314WARNING:tensorflow:Can save best model only with val_acc available, skipping.\n",
            "295/295 [==============================] - 33s 110ms/step - loss: 0.3897 - accuracy: 0.8314 - val_loss: 0.3929 - val_accuracy: 0.8523\n",
            "Epoch 5/100\n",
            "295/295 [==============================] - ETA: 0s - loss: 0.3806 - accuracy: 0.8395WARNING:tensorflow:Can save best model only with val_acc available, skipping.\n",
            "295/295 [==============================] - 34s 114ms/step - loss: 0.3806 - accuracy: 0.8395 - val_loss: 0.3081 - val_accuracy: 0.8798\n",
            "Epoch 6/100\n",
            "295/295 [==============================] - ETA: 0s - loss: 0.3628 - accuracy: 0.8501WARNING:tensorflow:Can save best model only with val_acc available, skipping.\n",
            "295/295 [==============================] - 33s 113ms/step - loss: 0.3628 - accuracy: 0.8501 - val_loss: 0.3135 - val_accuracy: 0.8825\n",
            "Epoch 7/100\n",
            "295/295 [==============================] - ETA: 0s - loss: 0.3636 - accuracy: 0.8496WARNING:tensorflow:Can save best model only with val_acc available, skipping.\n",
            "295/295 [==============================] - 33s 113ms/step - loss: 0.3636 - accuracy: 0.8496 - val_loss: 0.3794 - val_accuracy: 0.8569\n",
            "Epoch 8/100\n",
            "295/295 [==============================] - ETA: 0s - loss: 0.3639 - accuracy: 0.8489WARNING:tensorflow:Can save best model only with val_acc available, skipping.\n",
            "295/295 [==============================] - 33s 112ms/step - loss: 0.3639 - accuracy: 0.8489 - val_loss: 0.3724 - val_accuracy: 0.8759\n",
            "Epoch 9/100\n",
            "295/295 [==============================] - ETA: 0s - loss: 0.3521 - accuracy: 0.8563WARNING:tensorflow:Can save best model only with val_acc available, skipping.\n",
            "295/295 [==============================] - 33s 111ms/step - loss: 0.3521 - accuracy: 0.8563 - val_loss: 0.3789 - val_accuracy: 0.8391\n",
            "Epoch 10/100\n",
            "295/295 [==============================] - ETA: 0s - loss: 0.3451 - accuracy: 0.8586WARNING:tensorflow:Can save best model only with val_acc available, skipping.\n",
            "295/295 [==============================] - 34s 114ms/step - loss: 0.3451 - accuracy: 0.8586 - val_loss: 0.3321 - val_accuracy: 0.8654\n",
            "Epoch 11/100\n",
            "295/295 [==============================] - ETA: 0s - loss: 0.3340 - accuracy: 0.8623WARNING:tensorflow:Can save best model only with val_acc available, skipping.\n",
            "295/295 [==============================] - 33s 111ms/step - loss: 0.3340 - accuracy: 0.8623 - val_loss: 0.3014 - val_accuracy: 0.8831\n",
            "Epoch 12/100\n",
            "295/295 [==============================] - ETA: 0s - loss: 0.3263 - accuracy: 0.8676WARNING:tensorflow:Can save best model only with val_acc available, skipping.\n",
            "295/295 [==============================] - 33s 113ms/step - loss: 0.3263 - accuracy: 0.8676 - val_loss: 0.3619 - val_accuracy: 0.8739\n",
            "Epoch 13/100\n",
            "295/295 [==============================] - ETA: 0s - loss: 0.3250 - accuracy: 0.8722WARNING:tensorflow:Can save best model only with val_acc available, skipping.\n",
            "295/295 [==============================] - 33s 112ms/step - loss: 0.3250 - accuracy: 0.8722 - val_loss: 0.4371 - val_accuracy: 0.8175\n",
            "Epoch 14/100\n",
            "295/295 [==============================] - ETA: 0s - loss: 0.3224 - accuracy: 0.8704WARNING:tensorflow:Can save best model only with val_acc available, skipping.\n",
            "295/295 [==============================] - 32s 109ms/step - loss: 0.3224 - accuracy: 0.8704 - val_loss: 0.3578 - val_accuracy: 0.8615\n",
            "Epoch 15/100\n",
            "295/295 [==============================] - ETA: 0s - loss: 0.3138 - accuracy: 0.8713WARNING:tensorflow:Can save best model only with val_acc available, skipping.\n",
            "295/295 [==============================] - 33s 111ms/step - loss: 0.3138 - accuracy: 0.8713 - val_loss: 0.3343 - val_accuracy: 0.8628\n",
            "Epoch 16/100\n",
            "295/295 [==============================] - ETA: 0s - loss: 0.3128 - accuracy: 0.8743WARNING:tensorflow:Can save best model only with val_acc available, skipping.\n",
            "295/295 [==============================] - 32s 110ms/step - loss: 0.3128 - accuracy: 0.8743 - val_loss: 0.3990 - val_accuracy: 0.8746\n",
            "Epoch 17/100\n",
            "295/295 [==============================] - ETA: 0s - loss: 0.3107 - accuracy: 0.8781WARNING:tensorflow:Can save best model only with val_acc available, skipping.\n",
            "295/295 [==============================] - 32s 110ms/step - loss: 0.3107 - accuracy: 0.8781 - val_loss: 0.3655 - val_accuracy: 0.8588\n",
            "Epoch 18/100\n",
            "295/295 [==============================] - ETA: 0s - loss: 0.3032 - accuracy: 0.8766WARNING:tensorflow:Can save best model only with val_acc available, skipping.\n",
            "295/295 [==============================] - 32s 109ms/step - loss: 0.3032 - accuracy: 0.8766 - val_loss: 0.3353 - val_accuracy: 0.8687\n",
            "Epoch 19/100\n",
            "295/295 [==============================] - ETA: 0s - loss: 0.2998 - accuracy: 0.8802WARNING:tensorflow:Can save best model only with val_acc available, skipping.\n",
            "295/295 [==============================] - 32s 109ms/step - loss: 0.2998 - accuracy: 0.8802 - val_loss: 0.3676 - val_accuracy: 0.8733\n",
            "Epoch 20/100\n",
            "295/295 [==============================] - ETA: 0s - loss: 0.2988 - accuracy: 0.8791WARNING:tensorflow:Can save best model only with val_acc available, skipping.\n",
            "295/295 [==============================] - 33s 111ms/step - loss: 0.2988 - accuracy: 0.8791 - val_loss: 0.3055 - val_accuracy: 0.8949\n",
            "Epoch 21/100\n",
            "295/295 [==============================] - ETA: 0s - loss: 0.2874 - accuracy: 0.8858WARNING:tensorflow:Can save best model only with val_acc available, skipping.\n",
            "295/295 [==============================] - 32s 108ms/step - loss: 0.2874 - accuracy: 0.8858 - val_loss: 0.3180 - val_accuracy: 0.8884\n",
            "Epoch 22/100\n",
            "295/295 [==============================] - ETA: 0s - loss: 0.2841 - accuracy: 0.8866WARNING:tensorflow:Can save best model only with val_acc available, skipping.\n",
            "295/295 [==============================] - 32s 109ms/step - loss: 0.2841 - accuracy: 0.8866 - val_loss: 0.3078 - val_accuracy: 0.8917\n",
            "Epoch 23/100\n",
            "295/295 [==============================] - ETA: 0s - loss: 0.2894 - accuracy: 0.8842WARNING:tensorflow:Can save best model only with val_acc available, skipping.\n",
            "295/295 [==============================] - 32s 107ms/step - loss: 0.2894 - accuracy: 0.8842 - val_loss: 0.4135 - val_accuracy: 0.8529\n",
            "Epoch 24/100\n",
            "295/295 [==============================] - ETA: 0s - loss: 0.2753 - accuracy: 0.8907WARNING:tensorflow:Can save best model only with val_acc available, skipping.\n",
            "295/295 [==============================] - 32s 108ms/step - loss: 0.2753 - accuracy: 0.8907 - val_loss: 0.4361 - val_accuracy: 0.8227\n",
            "Epoch 25/100\n",
            "295/295 [==============================] - ETA: 0s - loss: 0.2863 - accuracy: 0.8854WARNING:tensorflow:Can save best model only with val_acc available, skipping.\n",
            "295/295 [==============================] - 31s 106ms/step - loss: 0.2863 - accuracy: 0.8854 - val_loss: 0.3702 - val_accuracy: 0.8582\n",
            "Epoch 26/100\n",
            "295/295 [==============================] - ETA: 0s - loss: 0.2701 - accuracy: 0.8879WARNING:tensorflow:Can save best model only with val_acc available, skipping.\n",
            "295/295 [==============================] - 31s 107ms/step - loss: 0.2701 - accuracy: 0.8879 - val_loss: 0.3556 - val_accuracy: 0.8798\n",
            "Epoch 27/100\n",
            "295/295 [==============================] - ETA: 0s - loss: 0.2675 - accuracy: 0.8929WARNING:tensorflow:Can save best model only with val_acc available, skipping.\n",
            "295/295 [==============================] - 32s 108ms/step - loss: 0.2675 - accuracy: 0.8929 - val_loss: 0.2949 - val_accuracy: 0.8923\n",
            "Epoch 28/100\n",
            "295/295 [==============================] - ETA: 0s - loss: 0.2618 - accuracy: 0.8959WARNING:tensorflow:Can save best model only with val_acc available, skipping.\n",
            "295/295 [==============================] - 32s 107ms/step - loss: 0.2618 - accuracy: 0.8959 - val_loss: 0.4392 - val_accuracy: 0.8542\n",
            "Epoch 29/100\n",
            "295/295 [==============================] - ETA: 0s - loss: 0.2642 - accuracy: 0.8948WARNING:tensorflow:Can save best model only with val_acc available, skipping.\n",
            "295/295 [==============================] - 32s 109ms/step - loss: 0.2642 - accuracy: 0.8948 - val_loss: 0.3263 - val_accuracy: 0.8759\n",
            "Epoch 30/100\n",
            "295/295 [==============================] - ETA: 0s - loss: 0.2671 - accuracy: 0.8934WARNING:tensorflow:Can save best model only with val_acc available, skipping.\n",
            "295/295 [==============================] - 33s 111ms/step - loss: 0.2671 - accuracy: 0.8934 - val_loss: 0.3363 - val_accuracy: 0.8890\n",
            "Epoch 31/100\n",
            "295/295 [==============================] - ETA: 0s - loss: 0.2605 - accuracy: 0.9000WARNING:tensorflow:Can save best model only with val_acc available, skipping.\n",
            "295/295 [==============================] - 32s 107ms/step - loss: 0.2605 - accuracy: 0.9000 - val_loss: 0.3541 - val_accuracy: 0.8759\n",
            "Epoch 32/100\n",
            "295/295 [==============================] - ETA: 0s - loss: 0.2530 - accuracy: 0.9007WARNING:tensorflow:Can save best model only with val_acc available, skipping.\n",
            "295/295 [==============================] - 32s 107ms/step - loss: 0.2530 - accuracy: 0.9007 - val_loss: 0.3289 - val_accuracy: 0.8877\n",
            "Epoch 33/100\n",
            "295/295 [==============================] - ETA: 0s - loss: 0.2511 - accuracy: 0.9001WARNING:tensorflow:Can save best model only with val_acc available, skipping.\n",
            "295/295 [==============================] - 32s 107ms/step - loss: 0.2511 - accuracy: 0.9001 - val_loss: 0.3457 - val_accuracy: 0.8772\n",
            "Epoch 34/100\n",
            "295/295 [==============================] - ETA: 0s - loss: 0.2578 - accuracy: 0.8998WARNING:tensorflow:Can save best model only with val_acc available, skipping.\n",
            "295/295 [==============================] - 32s 109ms/step - loss: 0.2578 - accuracy: 0.8998 - val_loss: 0.3492 - val_accuracy: 0.8897\n",
            "Epoch 35/100\n",
            "295/295 [==============================] - ETA: 0s - loss: 0.2502 - accuracy: 0.9003WARNING:tensorflow:Can save best model only with val_acc available, skipping.\n",
            "295/295 [==============================] - 32s 107ms/step - loss: 0.2502 - accuracy: 0.9003 - val_loss: 0.4200 - val_accuracy: 0.8726\n",
            "Epoch 36/100\n",
            "295/295 [==============================] - ETA: 0s - loss: 0.2430 - accuracy: 0.9051WARNING:tensorflow:Can save best model only with val_acc available, skipping.\n",
            "295/295 [==============================] - 32s 108ms/step - loss: 0.2430 - accuracy: 0.9051 - val_loss: 0.4073 - val_accuracy: 0.8588\n",
            "Epoch 37/100\n",
            "295/295 [==============================] - ETA: 0s - loss: 0.2330 - accuracy: 0.9090WARNING:tensorflow:Can save best model only with val_acc available, skipping.\n",
            "295/295 [==============================] - 32s 108ms/step - loss: 0.2330 - accuracy: 0.9090 - val_loss: 0.3725 - val_accuracy: 0.8555\n",
            "Epoch 38/100\n",
            "295/295 [==============================] - ETA: 0s - loss: 0.2408 - accuracy: 0.9083WARNING:tensorflow:Can save best model only with val_acc available, skipping.\n",
            "295/295 [==============================] - 32s 107ms/step - loss: 0.2408 - accuracy: 0.9083 - val_loss: 0.3310 - val_accuracy: 0.8785\n",
            "Epoch 39/100\n",
            "295/295 [==============================] - ETA: 0s - loss: 0.2323 - accuracy: 0.9083WARNING:tensorflow:Can save best model only with val_acc available, skipping.\n",
            "295/295 [==============================] - 33s 112ms/step - loss: 0.2323 - accuracy: 0.9083 - val_loss: 0.3324 - val_accuracy: 0.8805\n",
            "Epoch 40/100\n",
            "295/295 [==============================] - ETA: 0s - loss: 0.2267 - accuracy: 0.9112WARNING:tensorflow:Can save best model only with val_acc available, skipping.\n",
            "295/295 [==============================] - 32s 107ms/step - loss: 0.2267 - accuracy: 0.9112 - val_loss: 0.3482 - val_accuracy: 0.8877\n",
            "Epoch 41/100\n",
            "295/295 [==============================] - ETA: 0s - loss: 0.2372 - accuracy: 0.9076WARNING:tensorflow:Can save best model only with val_acc available, skipping.\n",
            "295/295 [==============================] - 32s 107ms/step - loss: 0.2372 - accuracy: 0.9076 - val_loss: 0.3556 - val_accuracy: 0.8654\n",
            "Epoch 42/100\n",
            "295/295 [==============================] - ETA: 0s - loss: 0.2206 - accuracy: 0.9152WARNING:tensorflow:Can save best model only with val_acc available, skipping.\n",
            "295/295 [==============================] - 32s 108ms/step - loss: 0.2206 - accuracy: 0.9152 - val_loss: 0.3136 - val_accuracy: 0.8903\n",
            "Epoch 43/100\n",
            "295/295 [==============================] - ETA: 0s - loss: 0.2227 - accuracy: 0.9135WARNING:tensorflow:Can save best model only with val_acc available, skipping.\n",
            "295/295 [==============================] - 34s 116ms/step - loss: 0.2227 - accuracy: 0.9135 - val_loss: 0.3906 - val_accuracy: 0.8733\n",
            "Epoch 44/100\n",
            "295/295 [==============================] - ETA: 0s - loss: 0.2257 - accuracy: 0.9107WARNING:tensorflow:Can save best model only with val_acc available, skipping.\n",
            "295/295 [==============================] - 33s 112ms/step - loss: 0.2257 - accuracy: 0.9107 - val_loss: 0.3786 - val_accuracy: 0.8739\n",
            "Epoch 45/100\n",
            "295/295 [==============================] - ETA: 0s - loss: 0.2285 - accuracy: 0.9121WARNING:tensorflow:Can save best model only with val_acc available, skipping.\n",
            "295/295 [==============================] - 32s 109ms/step - loss: 0.2285 - accuracy: 0.9121 - val_loss: 0.3089 - val_accuracy: 0.8818\n",
            "Epoch 46/100\n",
            "295/295 [==============================] - ETA: 0s - loss: 0.2221 - accuracy: 0.9098WARNING:tensorflow:Can save best model only with val_acc available, skipping.\n",
            "295/295 [==============================] - 32s 108ms/step - loss: 0.2221 - accuracy: 0.9098 - val_loss: 0.3740 - val_accuracy: 0.8772\n",
            "Epoch 47/100\n",
            "295/295 [==============================] - ETA: 0s - loss: 0.2181 - accuracy: 0.9122WARNING:tensorflow:Can save best model only with val_acc available, skipping.\n",
            "295/295 [==============================] - 32s 108ms/step - loss: 0.2181 - accuracy: 0.9122 - val_loss: 0.3644 - val_accuracy: 0.8831\n",
            "Epoch 48/100\n",
            "295/295 [==============================] - ETA: 0s - loss: 0.2193 - accuracy: 0.9151WARNING:tensorflow:Can save best model only with val_acc available, skipping.\n",
            "295/295 [==============================] - 32s 108ms/step - loss: 0.2193 - accuracy: 0.9151 - val_loss: 0.4194 - val_accuracy: 0.8772\n",
            "Epoch 49/100\n",
            "295/295 [==============================] - ETA: 0s - loss: 0.2141 - accuracy: 0.9147WARNING:tensorflow:Can save best model only with val_acc available, skipping.\n",
            "295/295 [==============================] - 33s 112ms/step - loss: 0.2141 - accuracy: 0.9147 - val_loss: 0.3621 - val_accuracy: 0.8792\n",
            "Epoch 50/100\n",
            "295/295 [==============================] - ETA: 0s - loss: 0.2141 - accuracy: 0.9160WARNING:tensorflow:Can save best model only with val_acc available, skipping.\n",
            "295/295 [==============================] - 32s 109ms/step - loss: 0.2141 - accuracy: 0.9160 - val_loss: 0.3537 - val_accuracy: 0.8871\n",
            "Epoch 51/100\n",
            "295/295 [==============================] - ETA: 0s - loss: 0.2136 - accuracy: 0.9186WARNING:tensorflow:Can save best model only with val_acc available, skipping.\n",
            "295/295 [==============================] - 32s 109ms/step - loss: 0.2136 - accuracy: 0.9186 - val_loss: 0.3293 - val_accuracy: 0.8982\n",
            "Epoch 52/100\n",
            "295/295 [==============================] - ETA: 0s - loss: 0.2175 - accuracy: 0.9184WARNING:tensorflow:Can save best model only with val_acc available, skipping.\n",
            "295/295 [==============================] - 32s 108ms/step - loss: 0.2175 - accuracy: 0.9184 - val_loss: 0.3008 - val_accuracy: 0.8969\n",
            "Epoch 53/100\n",
            "295/295 [==============================] - ETA: 0s - loss: 0.2058 - accuracy: 0.9195WARNING:tensorflow:Can save best model only with val_acc available, skipping.\n",
            "295/295 [==============================] - 32s 108ms/step - loss: 0.2058 - accuracy: 0.9195 - val_loss: 0.3447 - val_accuracy: 0.8726\n",
            "Epoch 54/100\n",
            "295/295 [==============================] - ETA: 0s - loss: 0.1919 - accuracy: 0.9246WARNING:tensorflow:Can save best model only with val_acc available, skipping.\n",
            "295/295 [==============================] - 32s 110ms/step - loss: 0.1919 - accuracy: 0.9246 - val_loss: 0.3011 - val_accuracy: 0.8897\n",
            "Epoch 55/100\n",
            "295/295 [==============================] - ETA: 0s - loss: 0.1982 - accuracy: 0.9233WARNING:tensorflow:Can save best model only with val_acc available, skipping.\n",
            "295/295 [==============================] - 32s 108ms/step - loss: 0.1982 - accuracy: 0.9233 - val_loss: 0.4258 - val_accuracy: 0.8588\n",
            "Epoch 56/100\n",
            "295/295 [==============================] - ETA: 0s - loss: 0.2060 - accuracy: 0.9197WARNING:tensorflow:Can save best model only with val_acc available, skipping.\n",
            "295/295 [==============================] - 32s 108ms/step - loss: 0.2060 - accuracy: 0.9197 - val_loss: 0.4140 - val_accuracy: 0.8674\n",
            "Epoch 57/100\n",
            "295/295 [==============================] - ETA: 0s - loss: 0.1976 - accuracy: 0.9225WARNING:tensorflow:Can save best model only with val_acc available, skipping.\n",
            "295/295 [==============================] - 32s 109ms/step - loss: 0.1976 - accuracy: 0.9225 - val_loss: 0.3839 - val_accuracy: 0.8707\n",
            "Epoch 58/100\n",
            "295/295 [==============================] - ETA: 0s - loss: 0.1934 - accuracy: 0.9243WARNING:tensorflow:Can save best model only with val_acc available, skipping.\n",
            "295/295 [==============================] - 32s 109ms/step - loss: 0.1934 - accuracy: 0.9243 - val_loss: 0.5511 - val_accuracy: 0.8582\n",
            "Epoch 59/100\n",
            "295/295 [==============================] - ETA: 0s - loss: 0.1866 - accuracy: 0.9263WARNING:tensorflow:Can save best model only with val_acc available, skipping.\n",
            "295/295 [==============================] - 32s 109ms/step - loss: 0.1866 - accuracy: 0.9263 - val_loss: 0.4728 - val_accuracy: 0.8352\n",
            "Epoch 60/100\n",
            "295/295 [==============================] - ETA: 0s - loss: 0.1957 - accuracy: 0.9236WARNING:tensorflow:Can save best model only with val_acc available, skipping.\n",
            "295/295 [==============================] - 35s 119ms/step - loss: 0.1957 - accuracy: 0.9236 - val_loss: 0.3431 - val_accuracy: 0.8844\n",
            "Epoch 61/100\n",
            "295/295 [==============================] - ETA: 0s - loss: 0.1937 - accuracy: 0.9231WARNING:tensorflow:Can save best model only with val_acc available, skipping.\n",
            "295/295 [==============================] - 32s 109ms/step - loss: 0.1937 - accuracy: 0.9231 - val_loss: 0.3879 - val_accuracy: 0.8542\n",
            "Epoch 62/100\n",
            "295/295 [==============================] - ETA: 0s - loss: 0.1794 - accuracy: 0.9301WARNING:tensorflow:Can save best model only with val_acc available, skipping.\n",
            "295/295 [==============================] - 36s 121ms/step - loss: 0.1794 - accuracy: 0.9301 - val_loss: 0.4879 - val_accuracy: 0.8542\n",
            "Epoch 63/100\n",
            "295/295 [==============================] - ETA: 0s - loss: 0.1926 - accuracy: 0.9247WARNING:tensorflow:Can save best model only with val_acc available, skipping.\n",
            "295/295 [==============================] - 43s 147ms/step - loss: 0.1926 - accuracy: 0.9247 - val_loss: 0.4191 - val_accuracy: 0.8864\n",
            "Epoch 64/100\n",
            "295/295 [==============================] - ETA: 0s - loss: 0.1788 - accuracy: 0.9344WARNING:tensorflow:Can save best model only with val_acc available, skipping.\n",
            "295/295 [==============================] - 39s 131ms/step - loss: 0.1788 - accuracy: 0.9344 - val_loss: 0.3979 - val_accuracy: 0.8871\n",
            "Epoch 65/100\n",
            "295/295 [==============================] - ETA: 0s - loss: 0.1855 - accuracy: 0.9283WARNING:tensorflow:Can save best model only with val_acc available, skipping.\n",
            "295/295 [==============================] - 31s 106ms/step - loss: 0.1855 - accuracy: 0.9283 - val_loss: 0.3844 - val_accuracy: 0.8798\n",
            "Epoch 66/100\n",
            "295/295 [==============================] - ETA: 0s - loss: 0.1747 - accuracy: 0.9343WARNING:tensorflow:Can save best model only with val_acc available, skipping.\n",
            "295/295 [==============================] - 33s 111ms/step - loss: 0.1747 - accuracy: 0.9343 - val_loss: 0.3737 - val_accuracy: 0.8812\n",
            "Epoch 67/100\n",
            "295/295 [==============================] - ETA: 0s - loss: 0.1798 - accuracy: 0.9310WARNING:tensorflow:Can save best model only with val_acc available, skipping.\n",
            "295/295 [==============================] - 32s 108ms/step - loss: 0.1798 - accuracy: 0.9310 - val_loss: 0.5372 - val_accuracy: 0.8726\n",
            "Epoch 68/100\n",
            "295/295 [==============================] - ETA: 0s - loss: 0.1838 - accuracy: 0.9314WARNING:tensorflow:Can save best model only with val_acc available, skipping.\n",
            "295/295 [==============================] - 31s 107ms/step - loss: 0.1838 - accuracy: 0.9314 - val_loss: 0.4373 - val_accuracy: 0.8733\n",
            "Epoch 69/100\n",
            "295/295 [==============================] - ETA: 0s - loss: 0.1660 - accuracy: 0.9367WARNING:tensorflow:Can save best model only with val_acc available, skipping.\n",
            "295/295 [==============================] - 31s 105ms/step - loss: 0.1660 - accuracy: 0.9367 - val_loss: 0.4215 - val_accuracy: 0.8884\n",
            "Epoch 70/100\n",
            "295/295 [==============================] - ETA: 0s - loss: 0.1779 - accuracy: 0.9316WARNING:tensorflow:Can save best model only with val_acc available, skipping.\n",
            "295/295 [==============================] - 31s 105ms/step - loss: 0.1779 - accuracy: 0.9316 - val_loss: 0.4810 - val_accuracy: 0.8884\n",
            "Epoch 71/100\n",
            "295/295 [==============================] - ETA: 0s - loss: 0.1720 - accuracy: 0.9366WARNING:tensorflow:Can save best model only with val_acc available, skipping.\n",
            "295/295 [==============================] - 31s 106ms/step - loss: 0.1720 - accuracy: 0.9366 - val_loss: 0.4209 - val_accuracy: 0.8812\n",
            "Epoch 72/100\n",
            "295/295 [==============================] - ETA: 0s - loss: 0.1714 - accuracy: 0.9372WARNING:tensorflow:Can save best model only with val_acc available, skipping.\n",
            "295/295 [==============================] - 31s 105ms/step - loss: 0.1714 - accuracy: 0.9372 - val_loss: 0.3956 - val_accuracy: 0.8785\n",
            "Epoch 73/100\n",
            "295/295 [==============================] - ETA: 0s - loss: 0.1711 - accuracy: 0.9353WARNING:tensorflow:Can save best model only with val_acc available, skipping.\n",
            "295/295 [==============================] - 31s 105ms/step - loss: 0.1711 - accuracy: 0.9353 - val_loss: 0.4138 - val_accuracy: 0.8838\n",
            "Epoch 74/100\n",
            "295/295 [==============================] - ETA: 0s - loss: 0.1655 - accuracy: 0.9384WARNING:tensorflow:Can save best model only with val_acc available, skipping.\n",
            "295/295 [==============================] - 31s 105ms/step - loss: 0.1655 - accuracy: 0.9384 - val_loss: 0.3365 - val_accuracy: 0.8949\n",
            "Epoch 75/100\n",
            "295/295 [==============================] - ETA: 0s - loss: 0.1713 - accuracy: 0.9350WARNING:tensorflow:Can save best model only with val_acc available, skipping.\n",
            "295/295 [==============================] - 31s 105ms/step - loss: 0.1713 - accuracy: 0.9350 - val_loss: 0.3945 - val_accuracy: 0.8864\n",
            "Epoch 76/100\n",
            "295/295 [==============================] - ETA: 0s - loss: 0.1707 - accuracy: 0.9364WARNING:tensorflow:Can save best model only with val_acc available, skipping.\n",
            "295/295 [==============================] - 31s 106ms/step - loss: 0.1707 - accuracy: 0.9364 - val_loss: 0.4735 - val_accuracy: 0.8569\n",
            "Epoch 77/100\n",
            "295/295 [==============================] - ETA: 0s - loss: 0.1617 - accuracy: 0.9410WARNING:tensorflow:Can save best model only with val_acc available, skipping.\n",
            "295/295 [==============================] - 32s 108ms/step - loss: 0.1617 - accuracy: 0.9410 - val_loss: 0.3736 - val_accuracy: 0.8949\n",
            "Epoch 78/100\n",
            "295/295 [==============================] - ETA: 0s - loss: 0.1632 - accuracy: 0.9386WARNING:tensorflow:Can save best model only with val_acc available, skipping.\n",
            "295/295 [==============================] - 31s 105ms/step - loss: 0.1632 - accuracy: 0.9386 - val_loss: 0.4166 - val_accuracy: 0.8798\n",
            "Epoch 79/100\n",
            "295/295 [==============================] - ETA: 0s - loss: 0.1666 - accuracy: 0.9393WARNING:tensorflow:Can save best model only with val_acc available, skipping.\n",
            "295/295 [==============================] - 31s 105ms/step - loss: 0.1666 - accuracy: 0.9393 - val_loss: 0.4048 - val_accuracy: 0.8752\n",
            "Epoch 80/100\n",
            "295/295 [==============================] - ETA: 0s - loss: 0.1633 - accuracy: 0.9354WARNING:tensorflow:Can save best model only with val_acc available, skipping.\n",
            "295/295 [==============================] - 31s 105ms/step - loss: 0.1633 - accuracy: 0.9354 - val_loss: 0.3876 - val_accuracy: 0.8687\n",
            "Epoch 81/100\n",
            "295/295 [==============================] - ETA: 0s - loss: 0.1646 - accuracy: 0.9356WARNING:tensorflow:Can save best model only with val_acc available, skipping.\n",
            "295/295 [==============================] - 31s 107ms/step - loss: 0.1646 - accuracy: 0.9356 - val_loss: 0.4212 - val_accuracy: 0.8647\n",
            "Epoch 82/100\n",
            "295/295 [==============================] - ETA: 0s - loss: 0.1541 - accuracy: 0.9401WARNING:tensorflow:Can save best model only with val_acc available, skipping.\n",
            "295/295 [==============================] - 33s 111ms/step - loss: 0.1541 - accuracy: 0.9401 - val_loss: 0.4175 - val_accuracy: 0.8825\n",
            "Epoch 83/100\n",
            "295/295 [==============================] - ETA: 0s - loss: 0.1522 - accuracy: 0.9420WARNING:tensorflow:Can save best model only with val_acc available, skipping.\n",
            "295/295 [==============================] - 34s 115ms/step - loss: 0.1522 - accuracy: 0.9420 - val_loss: 0.3659 - val_accuracy: 0.8825\n",
            "Epoch 84/100\n",
            "295/295 [==============================] - ETA: 0s - loss: 0.1557 - accuracy: 0.9397WARNING:tensorflow:Can save best model only with val_acc available, skipping.\n",
            "295/295 [==============================] - 33s 112ms/step - loss: 0.1557 - accuracy: 0.9397 - val_loss: 0.4367 - val_accuracy: 0.8726\n",
            "Epoch 85/100\n",
            "295/295 [==============================] - ETA: 0s - loss: 0.1520 - accuracy: 0.9429WARNING:tensorflow:Can save best model only with val_acc available, skipping.\n",
            "295/295 [==============================] - 33s 112ms/step - loss: 0.1520 - accuracy: 0.9429 - val_loss: 0.4419 - val_accuracy: 0.8746\n",
            "Epoch 86/100\n",
            "295/295 [==============================] - ETA: 0s - loss: 0.1522 - accuracy: 0.9422WARNING:tensorflow:Can save best model only with val_acc available, skipping.\n",
            "295/295 [==============================] - 32s 110ms/step - loss: 0.1522 - accuracy: 0.9422 - val_loss: 0.4930 - val_accuracy: 0.8687\n",
            "Epoch 87/100\n",
            "295/295 [==============================] - ETA: 0s - loss: 0.1508 - accuracy: 0.9422WARNING:tensorflow:Can save best model only with val_acc available, skipping.\n",
            "295/295 [==============================] - 34s 114ms/step - loss: 0.1508 - accuracy: 0.9422 - val_loss: 0.3838 - val_accuracy: 0.8871\n",
            "Epoch 88/100\n",
            "295/295 [==============================] - ETA: 0s - loss: 0.1546 - accuracy: 0.9421WARNING:tensorflow:Can save best model only with val_acc available, skipping.\n",
            "295/295 [==============================] - 31s 106ms/step - loss: 0.1546 - accuracy: 0.9421 - val_loss: 0.3862 - val_accuracy: 0.8844\n",
            "Epoch 89/100\n",
            "295/295 [==============================] - ETA: 0s - loss: 0.1511 - accuracy: 0.9409WARNING:tensorflow:Can save best model only with val_acc available, skipping.\n",
            "295/295 [==============================] - 32s 110ms/step - loss: 0.1511 - accuracy: 0.9409 - val_loss: 0.4094 - val_accuracy: 0.8667\n",
            "Epoch 90/100\n",
            "295/295 [==============================] - ETA: 0s - loss: 0.1519 - accuracy: 0.9441WARNING:tensorflow:Can save best model only with val_acc available, skipping.\n",
            "295/295 [==============================] - 32s 108ms/step - loss: 0.1519 - accuracy: 0.9441 - val_loss: 0.3813 - val_accuracy: 0.8831\n",
            "Epoch 91/100\n",
            "295/295 [==============================] - ETA: 0s - loss: 0.1537 - accuracy: 0.9448WARNING:tensorflow:Can save best model only with val_acc available, skipping.\n",
            "295/295 [==============================] - 32s 110ms/step - loss: 0.1537 - accuracy: 0.9448 - val_loss: 0.5365 - val_accuracy: 0.8615\n",
            "Epoch 92/100\n",
            "295/295 [==============================] - ETA: 0s - loss: 0.1769 - accuracy: 0.9368WARNING:tensorflow:Can save best model only with val_acc available, skipping.\n",
            "295/295 [==============================] - 32s 108ms/step - loss: 0.1769 - accuracy: 0.9368 - val_loss: 0.5317 - val_accuracy: 0.8746\n",
            "Epoch 93/100\n",
            "295/295 [==============================] - ETA: 0s - loss: 0.1629 - accuracy: 0.9413WARNING:tensorflow:Can save best model only with val_acc available, skipping.\n",
            "295/295 [==============================] - 33s 112ms/step - loss: 0.1629 - accuracy: 0.9413 - val_loss: 0.4517 - val_accuracy: 0.8661\n",
            "Epoch 94/100\n",
            "295/295 [==============================] - ETA: 0s - loss: 0.1461 - accuracy: 0.9419WARNING:tensorflow:Can save best model only with val_acc available, skipping.\n",
            "295/295 [==============================] - 32s 109ms/step - loss: 0.1461 - accuracy: 0.9419 - val_loss: 0.4163 - val_accuracy: 0.8700\n",
            "Epoch 95/100\n",
            "295/295 [==============================] - ETA: 0s - loss: 0.1420 - accuracy: 0.9470WARNING:tensorflow:Can save best model only with val_acc available, skipping.\n",
            "295/295 [==============================] - 32s 108ms/step - loss: 0.1420 - accuracy: 0.9470 - val_loss: 0.5049 - val_accuracy: 0.8766\n",
            "Epoch 96/100\n",
            "295/295 [==============================] - ETA: 0s - loss: 0.1454 - accuracy: 0.9410WARNING:tensorflow:Can save best model only with val_acc available, skipping.\n",
            "295/295 [==============================] - 33s 113ms/step - loss: 0.1454 - accuracy: 0.9410 - val_loss: 0.4946 - val_accuracy: 0.8752\n",
            "Epoch 97/100\n",
            "295/295 [==============================] - ETA: 0s - loss: 0.1557 - accuracy: 0.9443WARNING:tensorflow:Can save best model only with val_acc available, skipping.\n",
            "295/295 [==============================] - 32s 110ms/step - loss: 0.1557 - accuracy: 0.9443 - val_loss: 0.4487 - val_accuracy: 0.8871\n",
            "Epoch 98/100\n",
            "295/295 [==============================] - ETA: 0s - loss: 0.1407 - accuracy: 0.9492WARNING:tensorflow:Can save best model only with val_acc available, skipping.\n",
            "295/295 [==============================] - 31s 105ms/step - loss: 0.1407 - accuracy: 0.9492 - val_loss: 0.4269 - val_accuracy: 0.8720\n",
            "Epoch 99/100\n",
            "295/295 [==============================] - ETA: 0s - loss: 0.1349 - accuracy: 0.9496WARNING:tensorflow:Can save best model only with val_acc available, skipping.\n",
            "295/295 [==============================] - 31s 104ms/step - loss: 0.1349 - accuracy: 0.9496 - val_loss: 0.4383 - val_accuracy: 0.8871\n",
            "Epoch 100/100\n",
            "295/295 [==============================] - ETA: 0s - loss: 0.1460 - accuracy: 0.9460WARNING:tensorflow:Can save best model only with val_acc available, skipping.\n",
            "295/295 [==============================] - 31s 105ms/step - loss: 0.1460 - accuracy: 0.9460 - val_loss: 0.6127 - val_accuracy: 0.8654\n"
          ],
          "name": "stdout"
        }
      ]
    },
    {
      "cell_type": "code",
      "metadata": {
        "id": "c2WyI_0a2tE-"
      },
      "source": [
        ""
      ],
      "execution_count": null,
      "outputs": []
    }
  ]
}